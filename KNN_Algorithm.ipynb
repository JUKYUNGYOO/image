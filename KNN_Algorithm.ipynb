{
  "nbformat": 4,
  "nbformat_minor": 0,
  "metadata": {
    "colab": {
      "name": "KNN Algorithm.ipynb",
      "provenance": [],
      "collapsed_sections": [],
      "include_colab_link": true
    },
    "kernelspec": {
      "name": "python3",
      "display_name": "Python 3"
    }
  },
  "cells": [
    {
      "cell_type": "markdown",
      "metadata": {
        "id": "view-in-github",
        "colab_type": "text"
      },
      "source": [
        "<a href=\"https://colab.research.google.com/github/JUKYUNGYOO/image/blob/master/KNN_Algorithm.ipynb\" target=\"_parent\"><img src=\"https://colab.research.google.com/assets/colab-badge.svg\" alt=\"Open In Colab\"/></a>"
      ]
    },
    {
      "cell_type": "code",
      "metadata": {
        "id": "ZrT4Q8OeL63N",
        "colab_type": "code",
        "colab": {}
      },
      "source": [
        ""
      ],
      "execution_count": 0,
      "outputs": []
    },
    {
      "cell_type": "markdown",
      "metadata": {
        "id": "ExCys8pkOdc_",
        "colab_type": "text"
      },
      "source": [
        "\n",
        "```\n",
        "# K-Nearest Neighbor\n",
        "KNN은 비지도 학습(Unsupervised Learning)의\n",
        "가장 간단한 예시 입니다.\n",
        "다양한 레이블의 데이터 중에서, 자신과 가까운 데이터를 찾아 자신의 레이블을 결정하는 방식입니다\n",
        "\n",
        "```\n",
        "\n"
      ]
    },
    {
      "cell_type": "markdown",
      "metadata": {
        "id": "SNonEmfoOczV",
        "colab_type": "text"
      },
      "source": [
        ""
      ]
    },
    {
      "cell_type": "code",
      "metadata": {
        "id": "Q_wnq78iOzvi",
        "colab_type": "code",
        "outputId": "5383c4b5-ebe1-42a2-e019-e81a4c41557b",
        "colab": {
          "base_uri": "https://localhost:8080/",
          "height": 320
        }
      },
      "source": [
        "import cv2\n",
        "import numpy as np\n",
        "from matplotlib import pyplot as plt\n",
        "\n",
        "# 각 데이터의 위치: 25 X 2 크기에 각각 0 ~ 100\n",
        "trainData = np.random.randint(0, 100, (25, 2)).astype(np.float32)\n",
        "# 각 데이터는 0 or 1\n",
        "response = np.random.randint(0, 2, (25, 1)).astype(np.float32)\n",
        "\n",
        "# 값이 0인 데이터를 각각 (x, y) 위치에 빨간색으로 칠합니다.\n",
        "red = trainData[response.ravel() == 0]\n",
        "plt.scatter(red[:, 0], red[:, 1], 80, 'r', '^')\n",
        "# 값이 1인 데이터를 각각 (x, y) 위치에 파란색으로 칠합니다.\n",
        "blue = trainData[response.ravel() == 1]\n",
        "plt.scatter(blue[:, 0], blue[:, 1], 80, 'b', 's')\n",
        "\n",
        "# (0 ~ 100, 0 ~ 100) 위치의 데이터를 하나 생성해 칠합니다.\n",
        "newcomer = np.random.randint(0, 100, (1, 2)).astype(np.float32)\n",
        "plt.scatter(newcomer[:, 0], newcomer[:, 1], 80, 'g', 'o')\n",
        "\n",
        "knn = cv2.ml.KNearest_create()\n",
        "knn.train(trainData, cv2.ml.ROW_SAMPLE, response)\n",
        "ret, results, neighbours, dist = knn.findNearest(newcomer, 3)\n",
        "\n",
        "# 가까운 3개를 찾고, 거리를 고려하여 자신을 정합니다.\n",
        "print(\"result : \", results)\n",
        "print(\"neighbours :\", neighbours)\n",
        "print(\"distance: \", dist)\n",
        "\n",
        "plt.show()"
      ],
      "execution_count": 0,
      "outputs": [
        {
          "output_type": "stream",
          "text": [
            "result :  [[1.]]\n",
            "neighbours : [[0. 1. 1.]]\n",
            "distance:  [[ 397. 1000. 1160.]]\n"
          ],
          "name": "stdout"
        },
        {
          "output_type": "display_data",
          "data": {
            "image/png": "[encoded data removed]",
            "text/plain": [
              "<Figure size 432x288 with 1 Axes>"
            ]
          },
          "metadata": {
            "tags": []
          }
        }
      ]
    },
    {
      "cell_type": "code",
      "metadata": {
        "id": "CPh-HwTGP9Wk",
        "colab_type": "code",
        "colab": {}
      },
      "source": [
        ""
      ],
      "execution_count": 0,
      "outputs": []
    }
  ]
}