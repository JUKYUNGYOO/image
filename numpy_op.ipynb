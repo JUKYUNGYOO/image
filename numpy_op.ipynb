{
  "nbformat": 4,
  "nbformat_minor": 0,
  "metadata": {
    "colab": {
      "name": "numpy_op.ipynb",
      "provenance": [],
      "include_colab_link": true
    },
    "kernelspec": {
      "name": "python3",
      "display_name": "Python 3"
    }
  },
  "cells": [
    {
      "cell_type": "markdown",
      "metadata": {
        "id": "view-in-github",
        "colab_type": "text"
      },
      "source": [
        "<a href=\"https://colab.research.google.com/github/JUKYUNGYOO/image/blob/master/numpy_op.ipynb\" target=\"_parent\"><img src=\"https://colab.research.google.com/assets/colab-badge.svg\" alt=\"Open In Colab\"/></a>"
      ]
    },
    {
      "cell_type": "code",
      "metadata": {
        "id": "OH3rbxnLSjgq",
        "colab_type": "code",
        "outputId": "b24a07cf-6619-4472-e159-c5f33277c0d8",
        "colab": {
          "base_uri": "https://localhost:8080/",
          "height": 51
        }
      },
      "source": [
        "import numpy as np \n",
        "array = np.random.randint(1,10,size=4).reshape(2,2)\n",
        "print(array)"
      ],
      "execution_count": 0,
      "outputs": [
        {
          "output_type": "stream",
          "text": [
            "[[4 4]\n",
            " [7 1]]\n"
          ],
          "name": "stdout"
        }
      ]
    },
    {
      "cell_type": "code",
      "metadata": {
        "id": "Z3u5TnebSqLJ",
        "colab_type": "code",
        "outputId": "17441c28-e652-441e-b477-ecb841c6f9cc",
        "colab": {
          "base_uri": "https://localhost:8080/",
          "height": 51
        }
      },
      "source": [
        "result_array = array * 10\n",
        "print(result_array)"
      ],
      "execution_count": 0,
      "outputs": [
        {
          "output_type": "stream",
          "text": [
            "[[40 40]\n",
            " [70 10]]\n"
          ],
          "name": "stdout"
        }
      ]
    },
    {
      "cell_type": "markdown",
      "metadata": {
        "id": "k-lZCEKhUCip",
        "colab_type": "text"
      },
      "source": [
        ""
      ]
    },
    {
      "cell_type": "code",
      "metadata": {
        "id": "uHWq-J3YS1Iq",
        "colab_type": "code",
        "outputId": "539dafc6-84cb-4d1d-9066-a27a67c2efe3",
        "colab": {
          "base_uri": "https://localhost:8080/",
          "height": 51
        }
      },
      "source": [
        "import numpy as np\n",
        "array1 = np.arange(4).reshape(2,2)\n",
        "array2 = np.arange(2)\n",
        "array3 = array1 + array2\n",
        "print(array3)"
      ],
      "execution_count": 0,
      "outputs": [
        {
          "output_type": "stream",
          "text": [
            "[[0 2]\n",
            " [2 4]]\n"
          ],
          "name": "stdout"
        }
      ]
    },
    {
      "cell_type": "markdown",
      "metadata": {
        "id": "gXetJqy5T0oQ",
        "colab_type": "text"
      },
      "source": [
        ""
      ]
    },
    {
      "cell_type": "code",
      "metadata": {
        "id": "_8FP5HmokuEF",
        "colab_type": "code",
        "outputId": "137999d9-b7d4-419a-e21c-074232088982",
        "colab": {
          "base_uri": "https://localhost:8080/",
          "height": 85
        }
      },
      "source": [
        "import numpy as np \n",
        "array1 = np.arange(0,8).reshape(2,4)\n",
        "array2 = np.arange(0,8).reshape(2,4)\n",
        "array3 = np.concatenate([array1,array2],axis = 0)\n",
        "array4 = np.arange(0,4).reshape(4,1) #4*1\n",
        "\n",
        "\n",
        "print(array3)\n"
      ],
      "execution_count": 0,
      "outputs": [
        {
          "output_type": "stream",
          "text": [
            "[[0 1 2 3]\n",
            " [4 5 6 7]\n",
            " [0 1 2 3]\n",
            " [4 5 6 7]]\n"
          ],
          "name": "stdout"
        }
      ]
    },
    {
      "cell_type": "code",
      "metadata": {
        "id": "O-sfKq-anzTh",
        "colab_type": "code",
        "outputId": "36abab1c-feef-4c2e-f912-d1f2540831f9",
        "colab": {
          "base_uri": "https://localhost:8080/",
          "height": 221
        }
      },
      "source": [
        "import numpy as np\n",
        "# 마스킹 연산 \n",
        "array1 = np.arange(16).reshape(4,4)\n",
        "print(array1)\n",
        "\n",
        "array2 = array1 < 10\n",
        "print(array2)\n",
        "\n",
        "# 10보다 작은 원소를 선택해서 그 원소를 100 으로 바꾸어줌 \n",
        "\n",
        "array1[array2] = 100\n",
        "print(array1)"
      ],
      "execution_count": 0,
      "outputs": [
        {
          "output_type": "stream",
          "text": [
            "[[ 0  1  2  3]\n",
            " [ 4  5  6  7]\n",
            " [ 8  9 10 11]\n",
            " [12 13 14 15]]\n",
            "[[ True  True  True  True]\n",
            " [ True  True  True  True]\n",
            " [ True  True False False]\n",
            " [False False False False]]\n",
            "[[100 100 100 100]\n",
            " [100 100 100 100]\n",
            " [100 100  10  11]\n",
            " [ 12  13  14  15]]\n"
          ],
          "name": "stdout"
        }
      ]
    },
    {
      "cell_type": "code",
      "metadata": {
        "id": "zueFnCDCoC0w",
        "colab_type": "code",
        "outputId": "0a7e41e8-cec0-46dc-d49b-2d0a93a47835",
        "colab": {
          "base_uri": "https://localhost:8080/",
          "height": 102
        }
      },
      "source": [
        "# numpy 집계함수 \n",
        "import numpy as np \n",
        "array = np.arange(16).reshape(4,4)\n",
        "\n",
        "print(\"최대값:\", np.max(array))\n",
        "print(\"최소값:\", np.min(array))\n",
        "print(\"합계:\", np.sum(array))\n",
        "print(\"평균값:\",np.mean(array))\n",
        "\n",
        "# 특정한 열에 대한 합계 출력\n",
        "\n",
        "print(\"합계:\",np.sum(array,axis = 0))\n",
        "\n"
      ],
      "execution_count": 0,
      "outputs": [
        {
          "output_type": "stream",
          "text": [
            "최대값: 15\n",
            "최소값: 0\n",
            "합계: 120\n",
            "평균값: 7.5\n",
            "합계: [24 28 32 36]\n"
          ],
          "name": "stdout"
        }
      ]
    },
    {
      "cell_type": "code",
      "metadata": {
        "id": "g0gB1CjYqOI4",
        "colab_type": "code",
        "colab": {}
      },
      "source": [
        ""
      ],
      "execution_count": 0,
      "outputs": []
    }
  ]
}